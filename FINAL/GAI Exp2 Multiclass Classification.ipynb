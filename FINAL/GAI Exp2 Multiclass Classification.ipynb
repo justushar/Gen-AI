{
 "cells": [
  {
   "cell_type": "markdown",
   "metadata": {},
   "source": [
    "<h1 style=\"text-align: center;\">Experiment 2</h1>"
   ]
  },
  {
   "cell_type": "markdown",
   "metadata": {
    "id": "bftUhO1ea-bu"
   },
   "source": [
    "#### Aim: Build an Artificial Neural Network to implement Multi-Class Classification task using the Back-propagation algorithm and test the same using appropriate data sets"
   ]
  },
  {
   "cell_type": "markdown",
   "metadata": {
    "id": "li34PiT3bODE"
   },
   "source": [
    "### Database\n",
    "* The data that will be incorporated is the **MNIST database** (Modified National Institute of Standards and Technology database) which contains 60,000 images for training and 10,000 test images.\n",
    "* The dataset consists of small square 28×28 pixel grayscale images of handwritten single digits between 0 and 9\n",
    "* The MNIST dataset is conveniently bundled within Keras, and we can easily analyze some of its features in Python."
   ]
  },
  {
   "cell_type": "code",
   "execution_count": 1,
   "metadata": {
    "colab": {
     "base_uri": "https://localhost:8080/"
    },
    "executionInfo": {
     "elapsed": 5169,
     "status": "ok",
     "timestamp": 1692358256865,
     "user": {
      "displayName": "Amity ECE",
      "userId": "14781121077724076840"
     },
     "user_tz": -330
    },
    "id": "ux2M9prha0XP",
    "outputId": "b6a748dc-5ae8-4049-d51f-67c18bf3ec25"
   },
   "outputs": [
    {
     "name": "stdout",
     "output_type": "stream",
     "text": [
      "WARNING:tensorflow:From C:\\Python311\\Lib\\site-packages\\keras\\src\\losses.py:2976: The name tf.losses.sparse_softmax_cross_entropy is deprecated. Please use tf.compat.v1.losses.sparse_softmax_cross_entropy instead.\n",
      "\n",
      "X_train shape (60000, 28, 28)\n",
      "y_train shape (60000,)\n",
      "X_test shape (10000, 28, 28)\n",
      "y_test shape (10000,)\n"
     ]
    }
   ],
   "source": [
    "from tensorflow import keras\n",
    "from keras.datasets import mnist     # MNIST dataset is included in Keras\n",
    "(X_train, y_train), (X_test, y_test) = mnist.load_data()\n",
    "\n",
    "print(\"X_train shape\", X_train.shape)\n",
    "print(\"y_train shape\", y_train.shape)\n",
    "print(\"X_test shape\", X_test.shape)\n",
    "print(\"y_test shape\", y_test.shape)"
   ]
  },
  {
   "cell_type": "code",
   "execution_count": 2,
   "metadata": {
    "id": "04vC170obhb2"
   },
   "outputs": [
    {
     "data": {
      "image/png": "[encoded data removed]",
      "text/plain": [
       "<Figure size 640x480 with 9 Axes>"
      ]
     },
     "metadata": {},
     "output_type": "display_data"
    }
   ],
   "source": [
    "# Plot first few images\n",
    "import matplotlib.pyplot as plt\n",
    "for i in range(9):\n",
    "\t# define subplot\n",
    "\tplt.subplot(3,3,i+1) # 3 rows, 3 col, pos\n",
    "\t# plot raw pixel data\n",
    "\tplt.imshow(X_train[i], cmap='gray')\n",
    "# show the figure\n",
    "plt.show()"
   ]
  },
  {
   "cell_type": "code",
   "execution_count": 3,
   "metadata": {
    "id": "rhK5mMy7eKpM"
   },
   "outputs": [
    {
     "data": {
      "text/plain": [
       "(28, 28)"
      ]
     },
     "execution_count": 3,
     "metadata": {},
     "output_type": "execute_result"
    }
   ],
   "source": [
    "X_train[i].shape"
   ]
  },
  {
   "cell_type": "code",
   "execution_count": 4,
   "metadata": {
    "id": "H2hTIds6edP4"
   },
   "outputs": [
    {
     "data": {
      "text/plain": [
       "array([[  0,   0,  20, 254, 254, 108,   0,   0,   0,   0],\n",
       "       [  0,   0,  16, 239, 254, 143,   0,   0,   0,   0],\n",
       "       [  0,   0,   0, 178, 254, 143,   0,   0,   0,   0],\n",
       "       [  0,   0,   0, 178, 254, 143,   0,   0,   0,   0],\n",
       "       [  0,   0,   0, 178, 254, 162,   0,   0,   0,   0],\n",
       "       [  0,   0,   0, 178, 254, 240,   0,   0,   0,   0],\n",
       "       [  0,   0,   0, 113, 254, 240,   0,   0,   0,   0],\n",
       "       [  0,   0,   0,  83, 254, 245,  31,   0,   0,   0],\n",
       "       [  0,   0,   0,  79, 254, 246,  38,   0,   0,   0],\n",
       "       [  0,   0,   0,   0, 214, 254, 150,   0,   0,   0]], dtype=uint8)"
      ]
     },
     "execution_count": 4,
     "metadata": {},
     "output_type": "execute_result"
    }
   ],
   "source": [
    "# Each pixel is an 8-bit integer from 0-255 (0 is full black, 255 is full white)\n",
    "# single-channel pixel or monochrome image\n",
    "X_train[i][10:20,10:20]"
   ]
  },
  {
   "cell_type": "markdown",
   "metadata": {
    "id": "RQ78uYy-eJ31"
   },
   "source": [
    "### Formatting the input data\n",
    "\n",
    "* Reshape (or flatten) the 28x28 image into a 784-length vector.\n",
    "\n",
    "\n",
    "<img src='https://github.com/AviatorMoser/keras-mnist-tutorial/blob/master/flatten.png?raw=1' width=50%>\n",
    "\n",
    "* Input values [0-255] are Normalized in the range [0-1]\n",
    "\n",
    "A `Min-Max Scaling` is typically done via the following equation:\n",
    "\n",
    "$$X_{norm} = \\frac{X_{i} - X_{min}}{X_{max} - X_{min}}$$\n",
    "\n",
    "$X_i$ is the $i^{th}$ sample of dataset."
   ]
  },
  {
   "cell_type": "code",
   "execution_count": 5,
   "metadata": {
    "colab": {
     "base_uri": "https://localhost:8080/"
    },
    "executionInfo": {
     "elapsed": 36,
     "status": "ok",
     "timestamp": 1692358258741,
     "user": {
      "displayName": "Amity ECE",
      "userId": "14781121077724076840"
     },
     "user_tz": -330
    },
    "id": "TmCWE0JCgEqF",
    "outputId": "27bb5ebf-c0da-46ad-f1fa-2370c5da1268"
   },
   "outputs": [
    {
     "name": "stdout",
     "output_type": "stream",
     "text": [
      "Training matrix shape (60000, 784)\n",
      "Testing matrix shape (10000, 784)\n"
     ]
    }
   ],
   "source": [
    "# reshape 28 x 28 matrices into 784-length vectors\n",
    "X_train = X_train.reshape(60000, 784)\n",
    "X_test = X_test.reshape(10000, 784)\n",
    "\n",
    "# normalize each value for each pixel for the entire vector for each input\n",
    "# change integers to 32-bit floating point numbers\n",
    "X_train = X_train.astype('float32')\n",
    "X_test = X_test.astype('float32')\n",
    "# normalize by dividing by largest pixel value\n",
    "X_train /= 255\n",
    "X_test /= 255\n",
    "\n",
    "print(\"Training matrix shape\", X_train.shape)\n",
    "print(\"Testing matrix shape\", X_test.shape)"
   ]
  },
  {
   "cell_type": "markdown",
   "metadata": {
    "id": "YI6eVl5Lbai2"
   },
   "source": [
    "### DNN for Multi-class classification using Keras library"
   ]
  },
  {
   "cell_type": "code",
   "execution_count": 25,
   "metadata": {
    "id": "Qoi8YwzwoDGb"
   },
   "outputs": [],
   "source": [
    "from keras.models import Sequential\n",
    "from keras.layers import Dense\n",
    "\n",
    "mdl = Sequential()\n",
    "\n",
    "# Assuming input shape is (784,)\n",
    "input_shape = (784,)\n",
    "\n",
    "# Input layer with 64 units and relu activation\n",
    "mdl.add(Dense(64, input_shape=input_shape, activation='relu'))\n",
    "\n",
    "# Hidden layer with 32 units and relu activation\n",
    "mdl.add(Dense(32, activation='relu'))\n",
    "\n",
    "# Output layer with 10 units and softmax activation\n",
    "mdl.add(Dense(10, activation='softmax'))\n",
    "\n",
    "# Compile model\n",
    "mdl.compile(optimizer='adam', loss='categorical_crossentropy', metrics=['accuracy'])\n"
   ]
  },
  {
   "cell_type": "code",
   "execution_count": 26,
   "metadata": {
    "id": "j4YE_vJZqf11"
   },
   "outputs": [
    {
     "name": "stdout",
     "output_type": "stream",
     "text": [
      "You must install pydot (`pip install pydot`) and install graphviz (see instructions at https://graphviz.gitlab.io/download/) for plot_model to work.\n"
     ]
    }
   ],
   "source": [
    "# Visualize the model\n",
    "from keras.utils import plot_model\n",
    "plot_model(mdl, show_shapes=True, show_layer_names=False)"
   ]
  },
  {
   "cell_type": "code",
   "execution_count": 27,
   "metadata": {
    "id": "5aBXVjE6rRLy"
   },
   "outputs": [
    {
     "name": "stdout",
     "output_type": "stream",
     "text": [
      "Model: \"sequential_5\"\n",
      "_________________________________________________________________\n",
      " Layer (type)                Output Shape              Param #   \n",
      "=================================================================\n",
      " dense_5 (Dense)             (None, 64)                50240     \n",
      "                                                                 \n",
      " dense_6 (Dense)             (None, 32)                2080      \n",
      "                                                                 \n",
      " dense_7 (Dense)             (None, 10)                330       \n",
      "                                                                 \n",
      "=================================================================\n",
      "Total params: 52650 (205.66 KB)\n",
      "Trainable params: 52650 (205.66 KB)\n",
      "Non-trainable params: 0 (0.00 Byte)\n",
      "_________________________________________________________________\n"
     ]
    }
   ],
   "source": [
    "# Display model summary\n",
    "mdl.summary()"
   ]
  },
  {
   "cell_type": "markdown",
   "metadata": {
    "id": "dUhkgMHOpmcD"
   },
   "source": [
    "#### Convert labels to \"one-hot\" vectors using the to_categorical function\n",
    "```\n",
    "0 -> [1, 0, 0, 0, 0, 0, 0, 0, 0]\n",
    "1 -> [0, 1, 0, 0, 0, 0, 0, 0, 0]\n",
    "2 -> [0, 0, 1, 0, 0, 0, 0, 0, 0]\n",
    "etc.\n",
    "```\n"
   ]
  },
  {
   "cell_type": "code",
   "execution_count": 12,
   "metadata": {
    "id": "61gADurps2-6"
   },
   "outputs": [
    {
     "name": "stdout",
     "output_type": "stream",
     "text": [
      "4\n",
      "[0. 0. 0. 0. 1. 0. 0. 0. 0. 0.]\n"
     ]
    }
   ],
   "source": [
    "from keras.utils import to_categorical\n",
    "y_train1 = to_categorical(y_train)\n",
    "y_test1 = to_categorical(y_test)\n",
    "print(y_test[6])\n",
    "print(y_test1[6,:])"
   ]
  },
  {
   "cell_type": "code",
   "execution_count": 28,
   "metadata": {
    "id": "kqKL9A2mplQt"
   },
   "outputs": [
    {
     "name": "stdout",
     "output_type": "stream",
     "text": [
      "Epoch 1/10\n",
      "WARNING:tensorflow:From C:\\Python311\\Lib\\site-packages\\keras\\src\\utils\\tf_utils.py:492: The name tf.ragged.RaggedTensorValue is deprecated. Please use tf.compat.v1.ragged.RaggedTensorValue instead.\n",
      "\n",
      "WARNING:tensorflow:From C:\\Python311\\Lib\\site-packages\\keras\\src\\engine\\base_layer_utils.py:384: The name tf.executing_eagerly_outside_functions is deprecated. Please use tf.compat.v1.executing_eagerly_outside_functions instead.\n",
      "\n",
      "938/938 [==============================] - 11s 8ms/step - loss: 0.3488 - accuracy: 0.9025 - val_loss: 0.1868 - val_accuracy: 0.9434\n",
      "Epoch 2/10\n",
      "938/938 [==============================] - 6s 7ms/step - loss: 0.1573 - accuracy: 0.9540 - val_loss: 0.1470 - val_accuracy: 0.9563\n",
      "Epoch 3/10\n",
      "938/938 [==============================] - 6s 7ms/step - loss: 0.1157 - accuracy: 0.9661 - val_loss: 0.1206 - val_accuracy: 0.9650\n",
      "Epoch 4/10\n",
      "938/938 [==============================] - 6s 7ms/step - loss: 0.0903 - accuracy: 0.9724 - val_loss: 0.1034 - val_accuracy: 0.9696\n",
      "Epoch 5/10\n",
      "938/938 [==============================] - 6s 7ms/step - loss: 0.0750 - accuracy: 0.9771 - val_loss: 0.1035 - val_accuracy: 0.9691\n",
      "Epoch 6/10\n",
      "938/938 [==============================] - 6s 7ms/step - loss: 0.0627 - accuracy: 0.9807 - val_loss: 0.0916 - val_accuracy: 0.9712\n",
      "Epoch 7/10\n",
      "938/938 [==============================] - 6s 7ms/step - loss: 0.0519 - accuracy: 0.9838 - val_loss: 0.0933 - val_accuracy: 0.9726\n",
      "Epoch 8/10\n",
      "938/938 [==============================] - 6s 7ms/step - loss: 0.0453 - accuracy: 0.9859 - val_loss: 0.0936 - val_accuracy: 0.9746\n",
      "Epoch 9/10\n",
      "938/938 [==============================] - 6s 7ms/step - loss: 0.0403 - accuracy: 0.9871 - val_loss: 0.0890 - val_accuracy: 0.9747\n",
      "Epoch 10/10\n",
      "938/938 [==============================] - 6s 7ms/step - loss: 0.0341 - accuracy: 0.9890 - val_loss: 0.0957 - val_accuracy: 0.9741\n"
     ]
    }
   ],
   "source": [
    "# Train the model\n",
    "epochs=10\n",
    "batch = 64\n",
    "mdl.compile(optimizer='adam', loss='categorical_crossentropy', metrics=['accuracy'])\n",
    "history = mdl.fit(X_train, y_train1,epochs=epochs, batch_size=batch,verbose=1, validation_data=(X_test, y_test1))"
   ]
  },
  {
   "cell_type": "markdown",
   "metadata": {
    "id": "UjLK01ojX3AL"
   },
   "source": [
    "# Evaluate Model"
   ]
  },
  {
   "cell_type": "markdown",
   "metadata": {
    "id": "OKRq0gvledMR"
   },
   "source": [
    "### Plot Learning graphs"
   ]
  },
  {
   "cell_type": "code",
   "execution_count": 29,
   "metadata": {
    "id": "I2w0Q9tQYM2v"
   },
   "outputs": [
    {
     "data": {
      "image/png": "[encoded data removed]",
      "text/plain": [
       "<Figure size 640x480 with 1 Axes>"
      ]
     },
     "metadata": {},
     "output_type": "display_data"
    }
   ],
   "source": [
    "epochRange = range(1,epochs+1)\n",
    "plt.plot(epochRange,history.history['loss'])\n",
    "plt.plot(epochRange,history.history['val_loss'])\n",
    "plt.xlabel('Epoch')\n",
    "plt.ylabel('Loss')\n",
    "plt.grid()\n",
    "plt.xlim((1,epochs))\n",
    "plt.legend(['Train','Test'])\n",
    "plt.show()"
   ]
  },
  {
   "cell_type": "code",
   "execution_count": 30,
   "metadata": {
    "id": "muvyVpWVYTJd"
   },
   "outputs": [
    {
     "data": {
      "image/png": "[encoded data removed]",
      "text/plain": [
       "<Figure size 640x480 with 1 Axes>"
      ]
     },
     "metadata": {},
     "output_type": "display_data"
    }
   ],
   "source": [
    "plt.plot(epochRange,history.history['accuracy'])\n",
    "plt.plot(epochRange,history.history['val_accuracy'])\n",
    "plt.xlabel('Epoch')\n",
    "plt.ylabel('Accuracy')\n",
    "plt.grid()\n",
    "plt.xlim((1,epochs))\n",
    "plt.legend(['Train','Test'])\n",
    "plt.show()"
   ]
  },
  {
   "cell_type": "markdown",
   "metadata": {
    "id": "fkD4g_f8ug1-"
   },
   "source": [
    "#### Performance metrics"
   ]
  },
  {
   "cell_type": "code",
   "execution_count": 31,
   "metadata": {
    "id": "zOpZRnD1uwwQ"
   },
   "outputs": [
    {
     "name": "stdout",
     "output_type": "stream",
     "text": [
      "313/313 [==============================] - 2s 5ms/step\n",
      "[1.8183135e-08 1.4297991e-08 1.6334784e-06 4.7384405e-05 5.5701602e-12\n",
      " 3.4758187e-08 6.8623319e-13 9.9994826e-01 2.0901524e-07 2.2812178e-06]\n",
      "[7 2 1 0 4 1 4 9 5 9]\n",
      "[7 2 1 0 4 1 4 9 5 9]\n"
     ]
    }
   ],
   "source": [
    "import numpy as np\n",
    "yhat_test_mdl_prob = mdl.predict(X_test);\n",
    "yhat_test_mdl = np.argmax(yhat_test_mdl_prob,axis=-1)\n",
    "print(yhat_test_mdl_prob[0])\n",
    "print(yhat_test_mdl[0:10])\n",
    "print(y_test[0:10])"
   ]
  },
  {
   "cell_type": "code",
   "execution_count": 32,
   "metadata": {
    "id": "rOzEZlQsr-qC"
   },
   "outputs": [
    {
     "name": "stdout",
     "output_type": "stream",
     "text": [
      "Accuracy:\n",
      "97.41 %\n"
     ]
    }
   ],
   "source": [
    "from sklearn.metrics import accuracy_score\n",
    "print('Accuracy:')\n",
    "print(float(accuracy_score(y_test, yhat_test_mdl))*100,'%')"
   ]
  },
  {
   "cell_type": "code",
   "execution_count": 33,
   "metadata": {
    "id": "4gTcSiVGsC1-"
   },
   "outputs": [
    {
     "name": "stdout",
     "output_type": "stream",
     "text": [
      "Confusion Matrix:\n",
      "[[ 968    1    3    1    0    2    2    2    1    0]\n",
      " [   0 1118    4    0    0    2    3    4    4    0]\n",
      " [   5    2 1010    3    3    0    1    6    2    0]\n",
      " [   0    0    4  984    0    2    0   10    3    7]\n",
      " [   0    0    3    1  962    0    5    5    1    5]\n",
      " [   4    0    0   18    1  865    1    1    1    1]\n",
      " [   7    3    4    0    3    7  933    0    1    0]\n",
      " [   1    2   10    1    1    0    0 1005    0    8]\n",
      " [   3    1    6    9    6    5    5    7  928    4]\n",
      " [   0    2    0    8   10    5    1   11    4  968]]\n"
     ]
    }
   ],
   "source": [
    "from sklearn.metrics import confusion_matrix\n",
    "print('Confusion Matrix:')\n",
    "print(confusion_matrix(y_test, yhat_test_mdl))"
   ]
  },
  {
   "cell_type": "markdown",
   "metadata": {},
   "source": [
    "#### Conclusion: The accuracy was found out to be 97.41 %."
   ]
  }
 ],
 "metadata": {
  "colab": {
   "authorship_tag": "ABX9TyNQ5ISEqPGmSfUYdLTZRO7+",
   "provenance": []
  },
  "kernelspec": {
   "display_name": "Python 3 (ipykernel)",
   "language": "python",
   "name": "python3"
  },
  "language_info": {
   "codemirror_mode": {
    "name": "ipython",
    "version": 3
   },
   "file_extension": ".py",
   "mimetype": "text/x-python",
   "name": "python",
   "nbconvert_exporter": "python",
   "pygments_lexer": "ipython3",
   "version": "3.11.0"
  }
 },
 "nbformat": 4,
 "nbformat_minor": 1
}
