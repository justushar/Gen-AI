{
 "cells": [
  {
   "cell_type": "markdown",
   "metadata": {},
   "source": [
    "<h1 style=\"text-align: center;\">Experiment 1</h1>"
   ]
  },
  {
   "cell_type": "markdown",
   "metadata": {
    "id": "JbLj-OUKojSL"
   },
   "source": [
    "#### Aim: Build an Artificial Neural Network to implement Binary Classification task using the Back-propagation algorithm and test the same using appropriate data sets."
   ]
  },
  {
   "cell_type": "markdown",
   "metadata": {
    "id": "GAd5BOpNn1yb"
   },
   "source": [
    "#### Description\n",
    "\n",
    "The data used here is : '**Pima Indians Diabetes Dataset**'. It is downloaded from : https://raw.githubusercontent.com/jbrownlee/Datasets/master/pima-indians-diabetes.csv\n",
    "\n",
    "It is a binary (2-class) classification problem. There are 768 observations with 8 input variables and 1 output variable.\n",
    "\n",
    "The variable names are as follows:\n",
    "\n",
    "**1. Number of times pregnant.**\n",
    "\n",
    "**2. Plasma glucose concentration a 2 hours in an oral glucose tolerance test.**\n",
    "\n",
    "**3. Diastolic blood pressure (mm Hg).**\n",
    "\n",
    "**4. Triceps skinfold thickness (mm).**\n",
    "\n",
    "**5. 2-Hour serum insulin (mu U/ml).**\n",
    "\n",
    "**6. Body mass index (weight in kg/(height in m)^2).**\n",
    "\n",
    "**7. Diabetes pedigree function.**\n",
    "\n",
    "**8. Age (years).**\n",
    "\n",
    "**9. Class variable (0 or 1).**\n"
   ]
  },
  {
   "cell_type": "markdown",
   "metadata": {
    "id": "c3pOyaANmimQ"
   },
   "source": [
    " #### Data Import and Processing\n"
   ]
  },
  {
   "cell_type": "code",
   "execution_count": 2,
   "metadata": {
    "id": "mwGyz6EwSRk5"
   },
   "outputs": [],
   "source": [
    "import numpy as np\n",
    "import pandas as pd\n",
    "import matplotlib.pyplot as plt\n",
    "\n",
    "import sklearn"
   ]
  },
  {
   "cell_type": "code",
   "execution_count": 3,
   "metadata": {
    "id": "-n1H04B-dX7O"
   },
   "outputs": [
    {
     "name": "stdout",
     "output_type": "stream",
     "text": [
      "<class 'pandas.core.frame.DataFrame'>\n",
      "RangeIndex: 768 entries, 0 to 767\n",
      "Data columns (total 9 columns):\n",
      " #   Column  Non-Null Count  Dtype  \n",
      "---  ------  --------------  -----  \n",
      " 0   0       768 non-null    int64  \n",
      " 1   1       768 non-null    int64  \n",
      " 2   2       768 non-null    int64  \n",
      " 3   3       768 non-null    int64  \n",
      " 4   4       768 non-null    int64  \n",
      " 5   5       768 non-null    float64\n",
      " 6   6       768 non-null    float64\n",
      " 7   7       768 non-null    int64  \n",
      " 8   8       768 non-null    int64  \n",
      "dtypes: float64(2), int64(7)\n",
      "memory usage: 54.1 KB\n",
      "None\n",
      "   0    1   2   3    4     5      6   7  8\n",
      "0  6  148  72  35    0  33.6  0.627  50  1\n",
      "1  1   85  66  29    0  26.6  0.351  31  0\n",
      "2  8  183  64   0    0  23.3  0.672  32  1\n",
      "3  1   89  66  23   94  28.1  0.167  21  0\n",
      "4  0  137  40  35  168  43.1  2.288  33  1\n"
     ]
    }
   ],
   "source": [
    "# load data\n",
    "url = 'https://raw.githubusercontent.com/jbrownlee/Datasets/master/pima-indians-diabetes.csv'\n",
    "data_pd = pd.read_csv(url,header = None)\n",
    "print(data_pd.info())\n",
    "print(data_pd.head())"
   ]
  },
  {
   "cell_type": "markdown",
   "metadata": {
    "id": "jsRaWD3y5CgE"
   },
   "source": [
    "StandardScaler: https://scikit-learn.org/stable/modules/generated/sklearn.preprocessing.StandardScaler.html"
   ]
  },
  {
   "cell_type": "code",
   "execution_count": 4,
   "metadata": {
    "id": "qyy2Qp8uHNkQ"
   },
   "outputs": [
    {
     "data": {
      "text/html": [
       "<div>\n",
       "<style scoped>\n",
       "    .dataframe tbody tr th:only-of-type {\n",
       "        vertical-align: middle;\n",
       "    }\n",
       "\n",
       "    .dataframe tbody tr th {\n",
       "        vertical-align: top;\n",
       "    }\n",
       "\n",
       "    .dataframe thead th {\n",
       "        text-align: right;\n",
       "    }\n",
       "</style>\n",
       "<table border=\"1\" class=\"dataframe\">\n",
       "  <thead>\n",
       "    <tr style=\"text-align: right;\">\n",
       "      <th></th>\n",
       "      <th>0</th>\n",
       "      <th>1</th>\n",
       "      <th>2</th>\n",
       "      <th>3</th>\n",
       "      <th>4</th>\n",
       "      <th>5</th>\n",
       "      <th>6</th>\n",
       "      <th>7</th>\n",
       "    </tr>\n",
       "  </thead>\n",
       "  <tbody>\n",
       "    <tr>\n",
       "      <th>0</th>\n",
       "      <td>0.639947</td>\n",
       "      <td>0.848324</td>\n",
       "      <td>0.149641</td>\n",
       "      <td>0.907270</td>\n",
       "      <td>-0.692891</td>\n",
       "      <td>0.204013</td>\n",
       "      <td>0.468492</td>\n",
       "      <td>1.425995</td>\n",
       "    </tr>\n",
       "    <tr>\n",
       "      <th>1</th>\n",
       "      <td>-0.844885</td>\n",
       "      <td>-1.123396</td>\n",
       "      <td>-0.160546</td>\n",
       "      <td>0.530902</td>\n",
       "      <td>-0.692891</td>\n",
       "      <td>-0.684422</td>\n",
       "      <td>-0.365061</td>\n",
       "      <td>-0.190672</td>\n",
       "    </tr>\n",
       "    <tr>\n",
       "      <th>2</th>\n",
       "      <td>1.233880</td>\n",
       "      <td>1.943724</td>\n",
       "      <td>-0.263941</td>\n",
       "      <td>-1.288212</td>\n",
       "      <td>-0.692891</td>\n",
       "      <td>-1.103255</td>\n",
       "      <td>0.604397</td>\n",
       "      <td>-0.105584</td>\n",
       "    </tr>\n",
       "    <tr>\n",
       "      <th>3</th>\n",
       "      <td>-0.844885</td>\n",
       "      <td>-0.998208</td>\n",
       "      <td>-0.160546</td>\n",
       "      <td>0.154533</td>\n",
       "      <td>0.123302</td>\n",
       "      <td>-0.494043</td>\n",
       "      <td>-0.920763</td>\n",
       "      <td>-1.041549</td>\n",
       "    </tr>\n",
       "    <tr>\n",
       "      <th>4</th>\n",
       "      <td>-1.141852</td>\n",
       "      <td>0.504055</td>\n",
       "      <td>-1.504687</td>\n",
       "      <td>0.907270</td>\n",
       "      <td>0.765836</td>\n",
       "      <td>1.409746</td>\n",
       "      <td>5.484909</td>\n",
       "      <td>-0.020496</td>\n",
       "    </tr>\n",
       "  </tbody>\n",
       "</table>\n",
       "</div>"
      ],
      "text/plain": [
       "          0         1         2         3         4         5         6  \\\n",
       "0  0.639947  0.848324  0.149641  0.907270 -0.692891  0.204013  0.468492   \n",
       "1 -0.844885 -1.123396 -0.160546  0.530902 -0.692891 -0.684422 -0.365061   \n",
       "2  1.233880  1.943724 -0.263941 -1.288212 -0.692891 -1.103255  0.604397   \n",
       "3 -0.844885 -0.998208 -0.160546  0.154533  0.123302 -0.494043 -0.920763   \n",
       "4 -1.141852  0.504055 -1.504687  0.907270  0.765836  1.409746  5.484909   \n",
       "\n",
       "          7  \n",
       "0  1.425995  \n",
       "1 -0.190672  \n",
       "2 -0.105584  \n",
       "3 -1.041549  \n",
       "4 -0.020496  "
      ]
     },
     "execution_count": 4,
     "metadata": {},
     "output_type": "execute_result"
    }
   ],
   "source": [
    "#Scaling Numerical columns\n",
    "from sklearn.preprocessing import StandardScaler\n",
    "std = StandardScaler()\n",
    "scaled = std.fit_transform(data_pd.iloc[:,0:8])\n",
    "scaled = pd.DataFrame(scaled)\n",
    "scaled.head()"
   ]
  },
  {
   "cell_type": "code",
   "execution_count": 5,
   "metadata": {
    "id": "aSvqBd1jC0GW"
   },
   "outputs": [
    {
     "name": "stdout",
     "output_type": "stream",
     "text": [
      "X_data: (768, 8)\n",
      "Y_data: (768,)\n"
     ]
    }
   ],
   "source": [
    "X_data =scaled.to_numpy()\n",
    "print('X_data:',np.shape(X_data))\n",
    "Y_data = data_pd.iloc[:,8]\n",
    "print('Y_data:',np.shape(Y_data))"
   ]
  },
  {
   "cell_type": "code",
   "execution_count": 6,
   "metadata": {
    "id": "re5mYzfAdX2R"
   },
   "outputs": [],
   "source": [
    "# Split data into X_train, X_test, y_train, y_test\n",
    "from sklearn.model_selection import train_test_split\n",
    "X_train, X_test, y_train, y_test = train_test_split(X_data, Y_data, test_size=0.25, random_state= 0)"
   ]
  },
  {
   "cell_type": "code",
   "execution_count": 7,
   "metadata": {
    "id": "6XY9nsL8dXzm"
   },
   "outputs": [
    {
     "name": "stdout",
     "output_type": "stream",
     "text": [
      "X_train: (576, 8)\n",
      "y_train: (576,)\n",
      "X_test: (192, 8)\n",
      "y_test: (192,)\n"
     ]
    }
   ],
   "source": [
    "# Check the dimension of the sets\n",
    "print('X_train:',np.shape(X_train))\n",
    "print('y_train:',np.shape(y_train))\n",
    "print('X_test:',np.shape(X_test))\n",
    "print('y_test:',np.shape(y_test))"
   ]
  },
  {
   "cell_type": "markdown",
   "metadata": {
    "id": "5hDbfl4qm5Iq"
   },
   "source": [
    "#### Design the Model"
   ]
  },
  {
   "cell_type": "code",
   "execution_count": 8,
   "metadata": {
    "id": "lTOChYlGdXmu"
   },
   "outputs": [
    {
     "name": "stdout",
     "output_type": "stream",
     "text": [
      "WARNING:tensorflow:From C:\\Python311\\Lib\\site-packages\\keras\\src\\losses.py:2976: The name tf.losses.sparse_softmax_cross_entropy is deprecated. Please use tf.compat.v1.losses.sparse_softmax_cross_entropy instead.\n",
      "\n"
     ]
    }
   ],
   "source": [
    "import keras\n",
    "from keras.models import Sequential   # importing Sequential model\n",
    "from keras.layers import Dense        # importing Dense layers"
   ]
  },
  {
   "cell_type": "code",
   "execution_count": 9,
   "metadata": {
    "id": "BRvrz_MLSfMd"
   },
   "outputs": [
    {
     "name": "stdout",
     "output_type": "stream",
     "text": [
      "WARNING:tensorflow:From C:\\Python311\\Lib\\site-packages\\keras\\src\\backend.py:873: The name tf.get_default_graph is deprecated. Please use tf.compat.v1.get_default_graph instead.\n",
      "\n"
     ]
    }
   ],
   "source": [
    "# declaring model\n",
    "basic_model = Sequential()"
   ]
  },
  {
   "cell_type": "markdown",
   "metadata": {
    "id": "1u-JSWmXnAqf"
   },
   "source": [
    "#### Train the Model"
   ]
  },
  {
   "cell_type": "code",
   "execution_count": 10,
   "metadata": {
    "id": "GvTzUK7OasqW"
   },
   "outputs": [
    {
     "name": "stdout",
     "output_type": "stream",
     "text": [
      "WARNING:tensorflow:From C:\\Python311\\Lib\\site-packages\\keras\\src\\optimizers\\__init__.py:309: The name tf.train.Optimizer is deprecated. Please use tf.compat.v1.train.Optimizer instead.\n",
      "\n",
      "Epoch 1/120\n",
      "WARNING:tensorflow:From C:\\Python311\\Lib\\site-packages\\keras\\src\\utils\\tf_utils.py:492: The name tf.ragged.RaggedTensorValue is deprecated. Please use tf.compat.v1.ragged.RaggedTensorValue instead.\n",
      "\n",
      "18/18 [==============================] - 2s 52ms/step - loss: 3.4540 - val_loss: 3.3674\n",
      "Epoch 2/120\n",
      "18/18 [==============================] - 0s 10ms/step - loss: 3.4540 - val_loss: 3.3674\n",
      "Epoch 3/120\n",
      "18/18 [==============================] - 0s 12ms/step - loss: 3.4540 - val_loss: 3.3674\n",
      "Epoch 4/120\n",
      "18/18 [==============================] - 0s 11ms/step - loss: 3.4540 - val_loss: 3.3674\n",
      "Epoch 5/120\n",
      "18/18 [==============================] - 0s 11ms/step - loss: 3.4540 - val_loss: 3.3674\n",
      "Epoch 6/120\n",
      "18/18 [==============================] - 0s 12ms/step - loss: 3.4540 - val_loss: 3.3674\n",
      "Epoch 7/120\n",
      "18/18 [==============================] - 0s 11ms/step - loss: 3.4540 - val_loss: 3.3674\n",
      "Epoch 8/120\n",
      "18/18 [==============================] - 0s 11ms/step - loss: 3.4540 - val_loss: 3.3674\n",
      "Epoch 9/120\n",
      "18/18 [==============================] - 0s 11ms/step - loss: 3.4540 - val_loss: 3.3674\n",
      "Epoch 10/120\n",
      "18/18 [==============================] - 0s 10ms/step - loss: 3.4540 - val_loss: 3.3674\n",
      "Epoch 11/120\n",
      "18/18 [==============================] - 0s 11ms/step - loss: 3.4540 - val_loss: 3.3674\n",
      "Epoch 12/120\n",
      "18/18 [==============================] - 0s 10ms/step - loss: 3.4540 - val_loss: 3.3674\n",
      "Epoch 13/120\n",
      "18/18 [==============================] - 0s 11ms/step - loss: 3.4540 - val_loss: 3.3674\n",
      "Epoch 14/120\n",
      "18/18 [==============================] - 0s 11ms/step - loss: 3.4540 - val_loss: 3.3674\n",
      "Epoch 15/120\n",
      "18/18 [==============================] - 0s 11ms/step - loss: 3.4540 - val_loss: 3.3674\n",
      "Epoch 16/120\n",
      "18/18 [==============================] - 0s 11ms/step - loss: 3.4540 - val_loss: 3.3674\n",
      "Epoch 17/120\n",
      "18/18 [==============================] - 0s 11ms/step - loss: 3.4540 - val_loss: 3.3674\n",
      "Epoch 18/120\n",
      "18/18 [==============================] - 0s 12ms/step - loss: 3.4540 - val_loss: 3.3674\n",
      "Epoch 19/120\n",
      "18/18 [==============================] - 0s 11ms/step - loss: 3.4540 - val_loss: 3.3674\n",
      "Epoch 20/120\n",
      "18/18 [==============================] - 0s 11ms/step - loss: 3.4540 - val_loss: 3.3674\n",
      "Epoch 21/120\n",
      "18/18 [==============================] - 0s 12ms/step - loss: 3.4540 - val_loss: 3.3674\n",
      "Epoch 22/120\n",
      "18/18 [==============================] - 0s 10ms/step - loss: 3.4540 - val_loss: 3.3674\n",
      "Epoch 23/120\n",
      "18/18 [==============================] - 0s 11ms/step - loss: 3.4540 - val_loss: 3.3674\n",
      "Epoch 24/120\n",
      "18/18 [==============================] - 0s 12ms/step - loss: 3.4540 - val_loss: 3.3674\n",
      "Epoch 25/120\n",
      "18/18 [==============================] - 0s 12ms/step - loss: 3.4540 - val_loss: 3.3674\n",
      "Epoch 26/120\n",
      "18/18 [==============================] - 0s 11ms/step - loss: 3.4540 - val_loss: 3.3674\n",
      "Epoch 27/120\n",
      "18/18 [==============================] - 0s 11ms/step - loss: 3.4540 - val_loss: 3.3674\n",
      "Epoch 28/120\n",
      "18/18 [==============================] - 0s 12ms/step - loss: 3.4540 - val_loss: 3.3674\n",
      "Epoch 29/120\n",
      "18/18 [==============================] - 0s 11ms/step - loss: 3.4540 - val_loss: 3.3674\n",
      "Epoch 30/120\n",
      "18/18 [==============================] - 0s 11ms/step - loss: 3.4540 - val_loss: 3.3674\n",
      "Epoch 31/120\n",
      "18/18 [==============================] - 0s 11ms/step - loss: 3.4540 - val_loss: 3.3674\n",
      "Epoch 32/120\n",
      "18/18 [==============================] - 0s 10ms/step - loss: 3.4540 - val_loss: 3.3674\n",
      "Epoch 33/120\n",
      "18/18 [==============================] - 0s 11ms/step - loss: 3.4540 - val_loss: 3.3674\n",
      "Epoch 34/120\n",
      "18/18 [==============================] - 0s 11ms/step - loss: 3.4540 - val_loss: 3.3674\n",
      "Epoch 35/120\n",
      "18/18 [==============================] - 0s 10ms/step - loss: 3.4540 - val_loss: 3.3674\n",
      "Epoch 36/120\n",
      "18/18 [==============================] - 0s 10ms/step - loss: 3.4540 - val_loss: 3.3674\n",
      "Epoch 37/120\n",
      "18/18 [==============================] - 0s 11ms/step - loss: 3.4540 - val_loss: 3.3674\n",
      "Epoch 38/120\n",
      "18/18 [==============================] - 0s 10ms/step - loss: 3.4540 - val_loss: 3.3674\n",
      "Epoch 39/120\n",
      "18/18 [==============================] - 0s 11ms/step - loss: 3.4540 - val_loss: 3.3674\n",
      "Epoch 40/120\n",
      "18/18 [==============================] - 0s 11ms/step - loss: 3.4540 - val_loss: 3.3674\n",
      "Epoch 41/120\n",
      "18/18 [==============================] - 0s 11ms/step - loss: 3.4540 - val_loss: 3.3674\n",
      "Epoch 42/120\n",
      "18/18 [==============================] - 0s 10ms/step - loss: 3.4540 - val_loss: 3.3674\n",
      "Epoch 43/120\n",
      "18/18 [==============================] - 0s 10ms/step - loss: 3.4540 - val_loss: 3.3674\n",
      "Epoch 44/120\n",
      "18/18 [==============================] - 0s 11ms/step - loss: 3.4540 - val_loss: 3.3674\n",
      "Epoch 45/120\n",
      "18/18 [==============================] - 0s 10ms/step - loss: 3.4540 - val_loss: 3.3674\n",
      "Epoch 46/120\n",
      "18/18 [==============================] - 0s 12ms/step - loss: 3.4540 - val_loss: 3.3674\n",
      "Epoch 47/120\n",
      "18/18 [==============================] - 0s 12ms/step - loss: 3.4540 - val_loss: 3.3674\n",
      "Epoch 48/120\n",
      "18/18 [==============================] - 0s 12ms/step - loss: 3.4540 - val_loss: 3.3674\n",
      "Epoch 49/120\n",
      "18/18 [==============================] - 0s 10ms/step - loss: 3.4540 - val_loss: 3.3674\n",
      "Epoch 50/120\n",
      "18/18 [==============================] - 0s 10ms/step - loss: 3.4540 - val_loss: 3.3674\n",
      "Epoch 51/120\n",
      "18/18 [==============================] - 0s 11ms/step - loss: 3.4540 - val_loss: 3.3674\n",
      "Epoch 52/120\n",
      "18/18 [==============================] - 0s 11ms/step - loss: 3.4540 - val_loss: 3.3674\n",
      "Epoch 53/120\n",
      "18/18 [==============================] - 0s 11ms/step - loss: 3.4540 - val_loss: 3.3674\n",
      "Epoch 54/120\n",
      "18/18 [==============================] - 0s 11ms/step - loss: 3.4540 - val_loss: 3.3674\n",
      "Epoch 55/120\n",
      "18/18 [==============================] - 0s 11ms/step - loss: 3.4540 - val_loss: 3.3674\n",
      "Epoch 56/120\n",
      "18/18 [==============================] - 0s 12ms/step - loss: 3.4540 - val_loss: 3.3674\n",
      "Epoch 57/120\n",
      "18/18 [==============================] - 0s 11ms/step - loss: 3.4540 - val_loss: 3.3674\n",
      "Epoch 58/120\n",
      "18/18 [==============================] - 0s 10ms/step - loss: 3.4540 - val_loss: 3.3674\n",
      "Epoch 59/120\n",
      "18/18 [==============================] - 0s 12ms/step - loss: 3.4540 - val_loss: 3.3674\n",
      "Epoch 60/120\n",
      "18/18 [==============================] - 0s 11ms/step - loss: 3.4540 - val_loss: 3.3674\n",
      "Epoch 61/120\n",
      "18/18 [==============================] - 0s 12ms/step - loss: 3.4540 - val_loss: 3.3674\n",
      "Epoch 62/120\n",
      "18/18 [==============================] - 0s 11ms/step - loss: 3.4540 - val_loss: 3.3674\n",
      "Epoch 63/120\n",
      "18/18 [==============================] - 0s 11ms/step - loss: 3.4540 - val_loss: 3.3674\n",
      "Epoch 64/120\n",
      "18/18 [==============================] - 0s 11ms/step - loss: 3.4540 - val_loss: 3.3674\n",
      "Epoch 65/120\n",
      "18/18 [==============================] - 0s 11ms/step - loss: 3.4540 - val_loss: 3.3674\n",
      "Epoch 66/120\n",
      "18/18 [==============================] - 0s 11ms/step - loss: 3.4540 - val_loss: 3.3674\n",
      "Epoch 67/120\n",
      "18/18 [==============================] - 0s 10ms/step - loss: 3.4540 - val_loss: 3.3674\n",
      "Epoch 68/120\n",
      "18/18 [==============================] - 0s 11ms/step - loss: 3.4540 - val_loss: 3.3674\n",
      "Epoch 69/120\n",
      "18/18 [==============================] - 0s 10ms/step - loss: 3.4540 - val_loss: 3.3674\n",
      "Epoch 70/120\n",
      "18/18 [==============================] - 0s 10ms/step - loss: 3.4540 - val_loss: 3.3674\n",
      "Epoch 71/120\n",
      "18/18 [==============================] - 0s 11ms/step - loss: 3.4540 - val_loss: 3.3674\n",
      "Epoch 72/120\n",
      "18/18 [==============================] - 0s 10ms/step - loss: 3.4540 - val_loss: 3.3674\n",
      "Epoch 73/120\n",
      "18/18 [==============================] - 0s 10ms/step - loss: 3.4540 - val_loss: 3.3674\n",
      "Epoch 74/120\n",
      "18/18 [==============================] - 0s 12ms/step - loss: 3.4540 - val_loss: 3.3674\n",
      "Epoch 75/120\n",
      "18/18 [==============================] - 0s 11ms/step - loss: 3.4540 - val_loss: 3.3674\n",
      "Epoch 76/120\n",
      "18/18 [==============================] - 0s 10ms/step - loss: 3.4540 - val_loss: 3.3674\n",
      "Epoch 77/120\n",
      "18/18 [==============================] - 0s 12ms/step - loss: 3.4540 - val_loss: 3.3674\n",
      "Epoch 78/120\n"
     ]
    },
    {
     "name": "stdout",
     "output_type": "stream",
     "text": [
      "18/18 [==============================] - 0s 11ms/step - loss: 3.4540 - val_loss: 3.3674\n",
      "Epoch 79/120\n",
      "18/18 [==============================] - 0s 11ms/step - loss: 3.4540 - val_loss: 3.3674\n",
      "Epoch 80/120\n",
      "18/18 [==============================] - 0s 11ms/step - loss: 3.4540 - val_loss: 3.3674\n",
      "Epoch 81/120\n",
      "18/18 [==============================] - 0s 11ms/step - loss: 3.4540 - val_loss: 3.3674\n",
      "Epoch 82/120\n",
      "18/18 [==============================] - 0s 11ms/step - loss: 3.4540 - val_loss: 3.3674\n",
      "Epoch 83/120\n",
      "18/18 [==============================] - 0s 12ms/step - loss: 3.4540 - val_loss: 3.3674\n",
      "Epoch 84/120\n",
      "18/18 [==============================] - 0s 11ms/step - loss: 3.4540 - val_loss: 3.3674\n",
      "Epoch 85/120\n",
      "18/18 [==============================] - 0s 11ms/step - loss: 3.4540 - val_loss: 3.3674\n",
      "Epoch 86/120\n",
      "18/18 [==============================] - 0s 10ms/step - loss: 3.4540 - val_loss: 3.3674\n",
      "Epoch 87/120\n",
      "18/18 [==============================] - 0s 10ms/step - loss: 3.4540 - val_loss: 3.3674\n",
      "Epoch 88/120\n",
      "18/18 [==============================] - 0s 11ms/step - loss: 3.4540 - val_loss: 3.3674\n",
      "Epoch 89/120\n",
      "18/18 [==============================] - 0s 10ms/step - loss: 3.4540 - val_loss: 3.3674\n",
      "Epoch 90/120\n",
      "18/18 [==============================] - 0s 10ms/step - loss: 3.4540 - val_loss: 3.3674\n",
      "Epoch 91/120\n",
      "18/18 [==============================] - 0s 10ms/step - loss: 3.4540 - val_loss: 3.3674\n",
      "Epoch 92/120\n",
      "18/18 [==============================] - 0s 10ms/step - loss: 3.4540 - val_loss: 3.3674\n",
      "Epoch 93/120\n",
      "18/18 [==============================] - 0s 11ms/step - loss: 3.4540 - val_loss: 3.3674\n",
      "Epoch 94/120\n",
      "18/18 [==============================] - 0s 11ms/step - loss: 3.4540 - val_loss: 3.3674\n",
      "Epoch 95/120\n",
      "18/18 [==============================] - 0s 11ms/step - loss: 3.4540 - val_loss: 3.3674\n",
      "Epoch 96/120\n",
      "18/18 [==============================] - 0s 10ms/step - loss: 3.4540 - val_loss: 3.3674\n",
      "Epoch 97/120\n",
      "18/18 [==============================] - 0s 11ms/step - loss: 3.4540 - val_loss: 3.3674\n",
      "Epoch 98/120\n",
      "18/18 [==============================] - 0s 11ms/step - loss: 3.4540 - val_loss: 3.3674\n",
      "Epoch 99/120\n",
      "18/18 [==============================] - 0s 10ms/step - loss: 3.4540 - val_loss: 3.3674\n",
      "Epoch 100/120\n",
      "18/18 [==============================] - 0s 10ms/step - loss: 3.4540 - val_loss: 3.3674\n",
      "Epoch 101/120\n",
      "18/18 [==============================] - 0s 10ms/step - loss: 3.4540 - val_loss: 3.3674\n",
      "Epoch 102/120\n",
      "18/18 [==============================] - 0s 11ms/step - loss: 3.4540 - val_loss: 3.3674\n",
      "Epoch 103/120\n",
      "18/18 [==============================] - 0s 12ms/step - loss: 3.4540 - val_loss: 3.3674\n",
      "Epoch 104/120\n",
      "18/18 [==============================] - 0s 13ms/step - loss: 3.4540 - val_loss: 3.3674\n",
      "Epoch 105/120\n",
      "18/18 [==============================] - 0s 10ms/step - loss: 3.4540 - val_loss: 3.3674\n",
      "Epoch 106/120\n",
      "18/18 [==============================] - 0s 12ms/step - loss: 3.4540 - val_loss: 3.3674\n",
      "Epoch 107/120\n",
      "18/18 [==============================] - 0s 11ms/step - loss: 3.4540 - val_loss: 3.3674\n",
      "Epoch 108/120\n",
      "18/18 [==============================] - 0s 11ms/step - loss: 3.4540 - val_loss: 3.3674\n",
      "Epoch 109/120\n",
      "18/18 [==============================] - 0s 10ms/step - loss: 3.4540 - val_loss: 3.3674\n",
      "Epoch 110/120\n",
      "18/18 [==============================] - 0s 11ms/step - loss: 3.4540 - val_loss: 3.3674\n",
      "Epoch 111/120\n",
      "18/18 [==============================] - 0s 10ms/step - loss: 3.4540 - val_loss: 3.3674\n",
      "Epoch 112/120\n",
      "18/18 [==============================] - 0s 12ms/step - loss: 3.4540 - val_loss: 3.3674\n",
      "Epoch 113/120\n",
      "18/18 [==============================] - 0s 12ms/step - loss: 3.4540 - val_loss: 3.3674\n",
      "Epoch 114/120\n",
      "18/18 [==============================] - 0s 12ms/step - loss: 3.4540 - val_loss: 3.3674\n",
      "Epoch 115/120\n",
      "18/18 [==============================] - 0s 12ms/step - loss: 3.4540 - val_loss: 3.3674\n",
      "Epoch 116/120\n",
      "18/18 [==============================] - 0s 11ms/step - loss: 3.4540 - val_loss: 3.3674\n",
      "Epoch 117/120\n",
      "18/18 [==============================] - 0s 10ms/step - loss: 3.4540 - val_loss: 3.3674\n",
      "Epoch 118/120\n",
      "18/18 [==============================] - 0s 11ms/step - loss: 3.4540 - val_loss: 3.3674\n",
      "Epoch 119/120\n",
      "18/18 [==============================] - 0s 10ms/step - loss: 3.4540 - val_loss: 3.3674\n",
      "Epoch 120/120\n",
      "18/18 [==============================] - 0s 12ms/step - loss: 3.4540 - val_loss: 3.3674\n"
     ]
    }
   ],
   "source": [
    "# training the model\n",
    "basic_model.compile(optimizer=\"adam\", loss=\"binary_crossentropy\")\n",
    "epochs=120\n",
    "history = basic_model.fit(X_train, y_train, validation_data=(X_test, y_test), epochs=epochs)"
   ]
  },
  {
   "cell_type": "markdown",
   "metadata": {
    "id": "Sb996_yGu6cl"
   },
   "source": [
    "#### Evaluate the Model"
   ]
  },
  {
   "cell_type": "code",
   "execution_count": 11,
   "metadata": {
    "id": "SUS1fZ5nvF3U"
   },
   "outputs": [
    {
     "data": {
      "image/png": "[encoded data removed]",
      "text/plain": [
       "<Figure size 640x480 with 1 Axes>"
      ]
     },
     "metadata": {},
     "output_type": "display_data"
    }
   ],
   "source": [
    "# plot loss vs epochs\n",
    "epochRange = range(1,epochs+1)\n",
    "plt.plot(epochRange,history.history['loss'])\n",
    "plt.plot(epochRange,history.history['val_loss'])\n",
    "plt.xlabel('Epoch')\n",
    "plt.ylabel('Loss')\n",
    "plt.grid()\n",
    "plt.xlim((1,epochs))\n",
    "plt.legend(['Train','Test'])\n",
    "plt.show()"
   ]
  },
  {
   "cell_type": "code",
   "execution_count": 12,
   "metadata": {
    "id": "Z08lfMC5v0wk"
   },
   "outputs": [],
   "source": [
    "# Plot accuracy vs epochs (DIY)"
   ]
  },
  {
   "cell_type": "code",
   "execution_count": 14,
   "metadata": {
    "id": "FlT5Vst5h16C",
    "scrolled": true
   },
   "outputs": [
    {
     "name": "stdout",
     "output_type": "stream",
     "text": [
      "6/6 [==============================] - 0s 5ms/step - loss: 3.3674\n",
      "Loss =  3.3673744201660156\n"
     ]
    }
   ],
   "source": [
    "# Test, Loss, and Accuracy\n",
    "evaluation = basic_model.evaluate(X_test, y_test)\n",
    "if isinstance(evaluation, float):\n",
    "    # If only one metric (usually loss) is returned\n",
    "    loss = evaluation\n",
    "    print('Loss = ', loss)\n",
    "else:\n",
    "    # If multiple metrics are returned\n",
    "    loss = evaluation[0]\n",
    "    accuracy = evaluation[1]\n",
    "    print('Loss = ', loss)\n",
    "    print('Accuracy = ', accuracy)\n"
   ]
  },
  {
   "cell_type": "markdown",
   "metadata": {
    "id": "rs-Eo3bFwsl_"
   },
   "source": [
    "#### Classification Model Performance measures\n",
    "\n",
    "<img src='https://editor.analyticsvidhya.com/uploads/99666confusion%20matrix.JPG' width=40%>"
   ]
  },
  {
   "cell_type": "code",
   "execution_count": 15,
   "metadata": {
    "id": "G8j6D_uvwu1p"
   },
   "outputs": [
    {
     "name": "stdout",
     "output_type": "stream",
     "text": [
      "6/6 [==============================] - 0s 4ms/step\n",
      "661    1\n",
      "122    0\n",
      "113    0\n",
      "14     1\n",
      "529    0\n",
      "Name: 8, dtype: int64\n",
      "[[-0.84488505  2.4444783   0.35643175  1.4090945  -0.6928906   1.3843617\n",
      "   2.784923   -0.95646167]\n",
      " [-0.5479186  -0.43485916  0.25303626  0.5936296   0.17539902  0.20401277\n",
      "  -0.20499448 -0.87137395]\n",
      " [ 0.04601434 -1.4050707  -0.36733675 -1.2882122  -0.6928906   0.25478047\n",
      "  -0.24425603 -0.7011984 ]\n",
      " [ 0.3429808   1.4116724   0.14964075 -0.09637905  0.8266162  -0.78595734\n",
      "   0.34768724  1.5110831 ]\n",
      " [-1.1418515  -0.3096706  -0.2122435  -1.2882122  -0.6928906  -0.93826044\n",
      "   0.5681559  -0.1906719 ]]\n"
     ]
    }
   ],
   "source": [
    "y_pred = basic_model.predict(X_test)\n",
    "print(y_test[:5])\n",
    "print(y_pred[:5])"
   ]
  },
  {
   "cell_type": "markdown",
   "metadata": {},
   "source": [
    "#### Conclusion: The loss was found out to be 3.36."
   ]
  }
 ],
 "metadata": {
  "colab": {
   "provenance": [
    {
     "file_id": "https://github.com/Kaustubh-Atey/Keras-Codes-/blob/master/Keras%20-%20Binary%20Classification.ipynb",
     "timestamp": 1690785277040
    }
   ]
  },
  "kernelspec": {
   "display_name": "Python 3 (ipykernel)",
   "language": "python",
   "name": "python3"
  },
  "language_info": {
   "codemirror_mode": {
    "name": "ipython",
    "version": 3
   },
   "file_extension": ".py",
   "mimetype": "text/x-python",
   "name": "python",
   "nbconvert_exporter": "python",
   "pygments_lexer": "ipython3",
   "version": "3.11.0"
  }
 },
 "nbformat": 4,
 "nbformat_minor": 1
}
