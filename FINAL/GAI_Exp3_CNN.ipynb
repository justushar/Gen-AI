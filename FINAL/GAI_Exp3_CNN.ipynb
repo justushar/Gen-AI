{
 "cells": [
  {
   "cell_type": "markdown",
   "metadata": {},
   "source": [
    "<h1 style=\"text-align: center;\">Experiment 3</h1>"
   ]
  },
  {
   "cell_type": "markdown",
   "metadata": {
    "id": "3LSRciOWJ7jV"
   },
   "source": [
    "#### Aim: Design a CNN architecture to implement the image classification task over an image dataset. Perform the Hyper-parameter tuning and record the results.\n",
    "\n"
   ]
  },
  {
   "cell_type": "markdown",
   "metadata": {
    "id": "JbzVJDovJ7jX"
   },
   "source": [
    "#### Database\n",
    "* The data that will be incorporated is the **MNIST database** which contains 60,000 images for training and 10,000 test images.\n",
    "* The dataset consists of small square 28×28 pixel grayscale images of handwritten single digits between 0 and 9\n",
    "* The MNIST dataset is conveniently bundled within Keras, and we can easily analyze some of its features in Python."
   ]
  },
  {
   "cell_type": "code",
   "execution_count": 1,
   "metadata": {
    "id": "V012gbodpic3"
   },
   "outputs": [
    {
     "name": "stdout",
     "output_type": "stream",
     "text": [
      "WARNING:tensorflow:From C:\\Python311\\Lib\\site-packages\\keras\\src\\losses.py:2976: The name tf.losses.sparse_softmax_cross_entropy is deprecated. Please use tf.compat.v1.losses.sparse_softmax_cross_entropy instead.\n",
      "\n",
      "X_train shape (60000, 28, 28)\n",
      "y_train shape (60000,)\n",
      "X_test shape (10000, 28, 28)\n",
      "y_test shape (10000,)\n"
     ]
    }
   ],
   "source": [
    "from tensorflow import keras\n",
    "from keras.datasets import mnist     # MNIST dataset is included in Keras\n",
    "(X_train, y_train), (X_test, y_test) = mnist.load_data()\n",
    "\n",
    "print(\"X_train shape\", X_train.shape)\n",
    "print(\"y_train shape\", y_train.shape)\n",
    "print(\"X_test shape\", X_test.shape)\n",
    "print(\"y_test shape\", y_test.shape)"
   ]
  },
  {
   "cell_type": "code",
   "execution_count": 2,
   "metadata": {
    "id": "AAgWtMJopoI4"
   },
   "outputs": [
    {
     "data": {
      "image/png": "[encoded data removed]",
      "text/plain": [
       "<Figure size 640x480 with 1 Axes>"
      ]
     },
     "metadata": {},
     "output_type": "display_data"
    }
   ],
   "source": [
    "# Visualize any random image\n",
    "import matplotlib.pyplot as plt\n",
    "i=50\n",
    "plt.imshow(X_train[i], cmap='gray');"
   ]
  },
  {
   "cell_type": "markdown",
   "metadata": {
    "id": "rTLr3I6qp7tX"
   },
   "source": [
    "### Formatting the Input"
   ]
  },
  {
   "cell_type": "code",
   "execution_count": 3,
   "metadata": {
    "id": "JH6WP7EhJ7kK"
   },
   "outputs": [
    {
     "name": "stdout",
     "output_type": "stream",
     "text": [
      "Training matrix shape (60000, 28, 28, 1)\n",
      "Testing matrix shape (10000, 28, 28, 1)\n"
     ]
    }
   ],
   "source": [
    "# Single-channel input data (grey-scale)\n",
    "# First apply convolutions then flatten\n",
    "\n",
    "X_train = X_train.reshape(60000, 28, 28, 1) # single-channel input\n",
    "X_test = X_test.reshape(10000, 28, 28, 1)\n",
    "\n",
    "X_train = X_train.astype('float32')         # change integers to 32-bit floating point numbers\n",
    "X_test = X_test.astype('float32')\n",
    "\n",
    "X_train /= 255                              # min-max normalization\n",
    "X_test /= 255\n",
    "\n",
    "print(\"Training matrix shape\", X_train.shape)\n",
    "print(\"Testing matrix shape\", X_test.shape)"
   ]
  },
  {
   "cell_type": "markdown",
   "metadata": {
    "id": "WuGGo-BhJ7kG"
   },
   "source": [
    "#### Convolutional Neural Network"
   ]
  },
  {
   "cell_type": "markdown",
   "metadata": {
    "id": "kXPdGa2zJ7kG"
   },
   "source": [
    "* Convolution applies **kernels** (filters) that traverse through each image and generate **feature maps**\n",
    "* keras Conv2D:  https://keras.io/api/layers/convolution_layers/convolution2d/\n",
    "* Each kernel in a CNN learns a different characteristic of an image.\n",
    "* **max pooling** helps in reducing the number of learnable parameters, and decreasing the computational cost (e.g. system memory)"
   ]
  },
  {
   "cell_type": "markdown",
   "metadata": {
    "id": "BzUmjgpcJ7kJ"
   },
   "source": [
    "#### Building a Convolutional Neural Network"
   ]
  },
  {
   "cell_type": "code",
   "execution_count": 4,
   "metadata": {
    "id": "vAz2NiBysMk-"
   },
   "outputs": [
    {
     "name": "stdout",
     "output_type": "stream",
     "text": [
      "Using Keras version: 2.15.0 backend: tensorflow\n"
     ]
    }
   ],
   "source": [
    "from keras import backend as K\n",
    "from keras import __version__\n",
    "\n",
    "print('Using Keras version:', __version__, 'backend:', K.backend())"
   ]
  },
  {
   "cell_type": "code",
   "execution_count": 5,
   "metadata": {
    "collapsed": true,
    "id": "qullHJQyJ7kJ"
   },
   "outputs": [],
   "source": [
    "# import cnn layers\n",
    "from keras.models import Sequential\n",
    "from keras.layers import Conv2D, MaxPooling2D, Dropout, Flatten, Dense\n",
    "import tensorflow as tf"
   ]
  },
  {
   "cell_type": "code",
   "execution_count": 9,
   "metadata": {
    "id": "vnyTdNLt-NMU"
   },
   "outputs": [
    {
     "name": "stdout",
     "output_type": "stream",
     "text": [
      "WARNING:tensorflow:From C:\\Python311\\Lib\\site-packages\\keras\\src\\layers\\pooling\\max_pooling2d.py:161: The name tf.nn.max_pool is deprecated. Please use tf.nn.max_pool2d instead.\n",
      "\n",
      "WARNING:tensorflow:From C:\\Python311\\Lib\\site-packages\\keras\\src\\optimizers\\__init__.py:309: The name tf.train.Optimizer is deprecated. Please use tf.compat.v1.train.Optimizer instead.\n",
      "\n"
     ]
    }
   ],
   "source": [
    "model=Sequential()\n",
    "input_shape = (28, 28, 1)  # Assuming input images are grayscale with dimensions 28x28\n",
    "num_classes = 10  # Assuming a classification task with 10 classes\n",
    "# Convolution Layer 1: 8 filters, kernel size 3x3, relu activation, valid padding, stride 1\n",
    "model.add(Conv2D(8, kernel_size=(3, 3), activation='relu', padding='valid', strides=(1, 1), input_shape=input_shape))\n",
    "\n",
    "# MaxPooling: pool size 2, stride 2\n",
    "model.add(MaxPooling2D(pool_size=(2, 2), strides=(2, 2)))\n",
    "\n",
    "# Convolution Layer 2: 16 filters, kernel size 3x3, relu activation, valid padding, stride 1\n",
    "model.add(Conv2D(16, kernel_size=(3, 3), activation='relu', padding='valid', strides=(1, 1)))\n",
    "\n",
    "# MaxPooling: pool size 2, stride 2\n",
    "model.add(MaxPooling2D(pool_size=(2, 2), strides=(2, 2)))\n",
    "\n",
    "# Flatten final feature matrix into a 1d array\n",
    "model.add(Flatten())\n",
    "\n",
    "# Fully Connected Layer: 64 units and relu activation\n",
    "model.add(Dense(64, activation='relu'))\n",
    "\n",
    "# Dropout layer, 0.2 rate\n",
    "model.add(Dropout(0.2))\n",
    "\n",
    "# Final output dense Layer\n",
    "model.add(Dense(num_classes, activation='softmax'))\n",
    "\n",
    "# Compile the model with sparse_categorical_crossentropy loss\n",
    "model.compile(optimizer='adam', loss='sparse_categorical_crossentropy', metrics=['accuracy'])"
   ]
  },
  {
   "cell_type": "code",
   "execution_count": 10,
   "metadata": {
    "id": "nPtz-hkNJ7kL"
   },
   "outputs": [
    {
     "name": "stdout",
     "output_type": "stream",
     "text": [
      "Model: \"sequential_2\"\n",
      "_________________________________________________________________\n",
      " Layer (type)                Output Shape              Param #   \n",
      "=================================================================\n",
      " conv2d (Conv2D)             (None, 26, 26, 8)         80        \n",
      "                                                                 \n",
      " max_pooling2d (MaxPooling2  (None, 13, 13, 8)         0         \n",
      " D)                                                              \n",
      "                                                                 \n",
      " conv2d_1 (Conv2D)           (None, 11, 11, 16)        1168      \n",
      "                                                                 \n",
      " max_pooling2d_1 (MaxPoolin  (None, 5, 5, 16)          0         \n",
      " g2D)                                                            \n",
      "                                                                 \n",
      " flatten (Flatten)           (None, 400)               0         \n",
      "                                                                 \n",
      " dense (Dense)               (None, 64)                25664     \n",
      "                                                                 \n",
      " dropout (Dropout)           (None, 64)                0         \n",
      "                                                                 \n",
      " dense_1 (Dense)             (None, 10)                650       \n",
      "                                                                 \n",
      "=================================================================\n",
      "Total params: 27562 (107.66 KB)\n",
      "Trainable params: 27562 (107.66 KB)\n",
      "Non-trainable params: 0 (0.00 Byte)\n",
      "_________________________________________________________________\n"
     ]
    }
   ],
   "source": [
    "model.summary()"
   ]
  },
  {
   "cell_type": "code",
   "execution_count": 11,
   "metadata": {
    "id": "kAbfseDLAfDw"
   },
   "outputs": [
    {
     "name": "stdout",
     "output_type": "stream",
     "text": [
      "Conv1:  80\n",
      "Conv2:  1168\n",
      "Flatten: 400\n",
      "Dense1:  25664\n",
      "Dense2:  650\n"
     ]
    }
   ],
   "source": [
    "# Conv1: 3x3 kernels, one for each the single channel, 8 such filters and 8 biases\n",
    "print('Conv1: ',3*3*1*8 + 8)\n",
    "# Conv2: 3x3 kernels, one for each of the 8 channels, 16 such filters and 16 biases\n",
    "print('Conv2: ',3*3*8*16 + 16)\n",
    "# input to dense layer\n",
    "print('Flatten:', 5*5*16)\n",
    "# 400 inputs, 1 bias connected to each of 64 units in dense layer\n",
    "print('Dense1: ',400*64+64)\n",
    "# 64 inputs, 1 bias connected to each of 10 units in output layer\n",
    "print('Dense2: ',64*10+10)"
   ]
  },
  {
   "cell_type": "code",
   "execution_count": 12,
   "metadata": {
    "id": "y60-vSdJvwrZ"
   },
   "outputs": [
    {
     "data": {
      "image/png": "[encoded data removed]",
      "text/plain": [
       "<IPython.core.display.Image object>"
      ]
     },
     "execution_count": 12,
     "metadata": {},
     "output_type": "execute_result"
    }
   ],
   "source": [
    "# Visualize the model\n",
    "from keras.utils import plot_model\n",
    "plot_model(model, show_shapes=True, show_layer_names=False)"
   ]
  },
  {
   "cell_type": "markdown",
   "metadata": {
    "id": "dSfLW0QDwhwZ"
   },
   "source": [
    "#### Train the model"
   ]
  },
  {
   "cell_type": "markdown",
   "metadata": {
    "id": "i_9c9v-nj9Li"
   },
   "source": [
    "* Validation data =0.2*60,000 = 12,000\n",
    "* Batch size = 128\n",
    "* Number of batches during training are (60000-12000)/128 = 48000/128 = 375\n",
    "\n",
    "\n"
   ]
  },
  {
   "cell_type": "code",
   "execution_count": 13,
   "metadata": {
    "id": "stleMOVewiLS"
   },
   "outputs": [
    {
     "name": "stdout",
     "output_type": "stream",
     "text": [
      "Epoch 1/10\n",
      "WARNING:tensorflow:From C:\\Python311\\Lib\\site-packages\\keras\\src\\utils\\tf_utils.py:492: The name tf.ragged.RaggedTensorValue is deprecated. Please use tf.compat.v1.ragged.RaggedTensorValue instead.\n",
      "\n",
      "WARNING:tensorflow:From C:\\Python311\\Lib\\site-packages\\keras\\src\\engine\\base_layer_utils.py:384: The name tf.executing_eagerly_outside_functions is deprecated. Please use tf.compat.v1.executing_eagerly_outside_functions instead.\n",
      "\n",
      "375/375 [==============================] - 12s 20ms/step - loss: 0.4726 - accuracy: 0.8571 - val_loss: 0.1339 - val_accuracy: 0.9607\n",
      "Epoch 2/10\n",
      "375/375 [==============================] - 7s 18ms/step - loss: 0.1526 - accuracy: 0.9537 - val_loss: 0.0956 - val_accuracy: 0.9703\n",
      "Epoch 3/10\n",
      "375/375 [==============================] - 7s 17ms/step - loss: 0.1124 - accuracy: 0.9657 - val_loss: 0.0743 - val_accuracy: 0.9772\n",
      "Epoch 4/10\n",
      "375/375 [==============================] - 6s 17ms/step - loss: 0.0903 - accuracy: 0.9718 - val_loss: 0.0704 - val_accuracy: 0.9791\n",
      "Epoch 5/10\n",
      "375/375 [==============================] - 7s 18ms/step - loss: 0.0784 - accuracy: 0.9759 - val_loss: 0.0654 - val_accuracy: 0.9805\n",
      "Epoch 6/10\n",
      "375/375 [==============================] - 7s 18ms/step - loss: 0.0691 - accuracy: 0.9782 - val_loss: 0.0608 - val_accuracy: 0.9815\n",
      "Epoch 7/10\n",
      "375/375 [==============================] - 6s 17ms/step - loss: 0.0635 - accuracy: 0.9800 - val_loss: 0.0598 - val_accuracy: 0.9821\n",
      "Epoch 8/10\n",
      "375/375 [==============================] - 6s 16ms/step - loss: 0.0556 - accuracy: 0.9826 - val_loss: 0.0516 - val_accuracy: 0.9862\n",
      "Epoch 9/10\n",
      "375/375 [==============================] - 6s 17ms/step - loss: 0.0524 - accuracy: 0.9836 - val_loss: 0.0512 - val_accuracy: 0.9857\n",
      "Epoch 10/10\n",
      "375/375 [==============================] - 7s 19ms/step - loss: 0.0474 - accuracy: 0.9851 - val_loss: 0.0477 - val_accuracy: 0.9872\n"
     ]
    }
   ],
   "source": [
    "# Train the model\n",
    "batch_size=128\n",
    "epochs=10\n",
    "hist = model.fit(X_train, y_train,epochs=epochs,batch_size=batch_size,verbose=1,validation_split=0.2)"
   ]
  },
  {
   "cell_type": "markdown",
   "metadata": {
    "id": "-a7xQqDE0l71"
   },
   "source": [
    "#### Evaluate Model"
   ]
  },
  {
   "cell_type": "code",
   "execution_count": 14,
   "metadata": {
    "id": "tNtLvw7R0mcA"
   },
   "outputs": [
    {
     "name": "stdout",
     "output_type": "stream",
     "text": [
      "Test loss: 0.03452600538730621\n",
      "Test accuracy: 0.9887999892234802\n"
     ]
    }
   ],
   "source": [
    "score = model.evaluate(X_test, y_test, verbose = 0)\n",
    "print('Test loss:', score[0])\n",
    "print('Test accuracy:', score[1])"
   ]
  },
  {
   "cell_type": "code",
   "execution_count": 15,
   "metadata": {
    "id": "KqXjnsGilvB2"
   },
   "outputs": [
    {
     "name": "stdout",
     "output_type": "stream",
     "text": [
      "Actual class: 7\n",
      "Class Probabilities:\n",
      "1/1 [==============================] - 0s 383ms/step\n"
     ]
    },
    {
     "data": {
      "text/plain": [
       "array([[1.9173541e-11, 1.5280905e-08, 9.3083139e-07, 4.4941464e-07,\n",
       "        3.8869655e-10, 5.8058929e-11, 9.2844670e-14, 9.9999833e-01,\n",
       "        2.2959872e-09, 2.4526750e-07]], dtype=float32)"
      ]
     },
     "execution_count": 15,
     "metadata": {},
     "output_type": "execute_result"
    }
   ],
   "source": [
    "# make one prediction\n",
    "print('Actual class:',y_test[0])\n",
    "print('Class Probabilities:')\n",
    "model.predict(X_test[0].reshape(1,28,28,1))"
   ]
  },
  {
   "cell_type": "code",
   "execution_count": 16,
   "metadata": {
    "id": "BuJKW9-i1fCw"
   },
   "outputs": [
    {
     "name": "stdout",
     "output_type": "stream",
     "text": [
      "313/313 [==============================] - 2s 7ms/step\n",
      "[7 2 1 0 4 1 4 9 5 9]\n",
      "[7 2 1 0 4 1 4 9 5 9]\n"
     ]
    }
   ],
   "source": [
    "import numpy as np\n",
    "yhat_test = np.argmax(model.predict(X_test),axis=-1)\n",
    "print(yhat_test[0:10])\n",
    "print(y_test[0:10])"
   ]
  },
  {
   "cell_type": "code",
   "execution_count": 17,
   "metadata": {
    "id": "nOx0Jxzl19Ij"
   },
   "outputs": [
    {
     "name": "stdout",
     "output_type": "stream",
     "text": [
      "Accuracy:\n",
      "98.88 %\n"
     ]
    }
   ],
   "source": [
    "from sklearn.metrics import accuracy_score\n",
    "print('Accuracy:')\n",
    "print(float(accuracy_score(y_test, yhat_test))*100,'%')"
   ]
  },
  {
   "cell_type": "code",
   "execution_count": 18,
   "metadata": {
    "id": "hRWO59sO2Qns"
   },
   "outputs": [
    {
     "name": "stdout",
     "output_type": "stream",
     "text": [
      "Confusion Matrix:\n",
      "[[ 974    0    1    0    0    0    2    2    1    0]\n",
      " [   0 1132    1    0    0    0    1    0    1    0]\n",
      " [   1    0 1023    2    0    0    0    3    3    0]\n",
      " [   0    0    3 1000    0    5    0    1    0    1]\n",
      " [   0    1    1    0  975    0    0    1    0    4]\n",
      " [   3    0    0    7    0  879    2    1    0    0]\n",
      " [   5    2    0    1    1    2  946    0    1    0]\n",
      " [   2    0    8    2    0    0    0 1013    1    2]\n",
      " [   2    0    6    1    1    1    1    1  958    3]\n",
      " [   2    4    1    0    3    4    0    7    0  988]]\n"
     ]
    }
   ],
   "source": [
    "from sklearn.metrics import confusion_matrix\n",
    "print('Confusion Matrix:')\n",
    "print(confusion_matrix(y_test, yhat_test))"
   ]
  },
  {
   "cell_type": "markdown",
   "metadata": {},
   "source": [
    "#### Conclusion: The accuracy was found out to be 98.88%."
   ]
  }
 ],
 "metadata": {
  "colab": {
   "provenance": []
  },
  "kernelspec": {
   "display_name": "Python 3 (ipykernel)",
   "language": "python",
   "name": "python3"
  }
 },
 "nbformat": 4,
 "nbformat_minor": 1
}
