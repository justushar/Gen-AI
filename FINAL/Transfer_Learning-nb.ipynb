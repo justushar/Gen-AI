{
 "cells": [
  {
   "cell_type": "code",
   "execution_count": 1,
   "metadata": {},
   "outputs": [
    {
     "name": "stdout",
     "output_type": "stream",
     "text": [
      "WARNING:tensorflow:From C:\\Python311\\Lib\\site-packages\\keras\\src\\losses.py:2976: The name tf.losses.sparse_softmax_cross_entropy is deprecated. Please use tf.compat.v1.losses.sparse_softmax_cross_entropy instead.\n",
      "\n"
     ]
    }
   ],
   "source": [
    "import tensorflow as tf\n",
    "from tensorflow.keras import datasets, layers, models, optimizers\n",
    "from tensorflow.keras.applications import VGG16\n",
    "from tensorflow.keras.preprocessing.image import ImageDataGenerator\n"
   ]
  },
  {
   "cell_type": "code",
   "execution_count": 2,
   "metadata": {},
   "outputs": [],
   "source": [
    "\n",
    "\n",
    "# Load CIFAR-10 dataset\n",
    "(train_images, train_labels), (test_images, test_labels) = datasets.cifar10.load_data()\n",
    "\n",
    "# Normalize pixel values to be between 0 and 1\n",
    "train_images, test_images = train_images / 255.0, test_images / 255.0\n",
    "\n",
    "# Define data augmentation\n",
    "train_datagen = ImageDataGenerator(\n",
    "    rotation_range=15,\n",
    "    width_shift_range=0.1,\n",
    "    height_shift_range=0.1,\n",
    "    horizontal_flip=True,\n",
    "    )\n",
    "train_datagen.fit(train_images)\n"
   ]
  },
  {
   "cell_type": "code",
   "execution_count": 3,
   "metadata": {},
   "outputs": [
    {
     "name": "stdout",
     "output_type": "stream",
     "text": [
      "WARNING:tensorflow:From C:\\Python311\\Lib\\site-packages\\keras\\src\\backend.py:1398: The name tf.executing_eagerly_outside_functions is deprecated. Please use tf.compat.v1.executing_eagerly_outside_functions instead.\n",
      "\n",
      "WARNING:tensorflow:From C:\\Python311\\Lib\\site-packages\\keras\\src\\layers\\pooling\\max_pooling2d.py:161: The name tf.nn.max_pool is deprecated. Please use tf.nn.max_pool2d instead.\n",
      "\n"
     ]
    }
   ],
   "source": [
    "\n",
    "# Load pre-trained VGG16 model without including top dense layers\n",
    "base_model = VGG16(weights='imagenet', include_top=False, input_shape=(32, 32, 3))\n",
    "\n",
    "# Freeze all layers in base model\n",
    "for layer in base_model.layers:\n",
    "    layer.trainable = False\n",
    "\n",
    "# Add custom dense layers for CIFAR-10 classification\n",
    "model = models.Sequential()\n",
    "model.add(base_model)\n",
    "model.add(layers.Flatten())\n",
    "model.add(layers.Dense(256, activation='relu'))\n",
    "model.add(layers.Dropout(0.5))\n",
    "model.add(layers.Dense(10, activation='softmax'))\n",
    "\n",
    "# Compile the model\n",
    "model.compile(optimizer=optimizers.Adam(), \n",
    "              loss='sparse_categorical_crossentropy',\n",
    "              metrics=['accuracy'])\n"
   ]
  },
  {
   "cell_type": "code",
   "execution_count": 4,
   "metadata": {},
   "outputs": [
    {
     "name": "stdout",
     "output_type": "stream",
     "text": [
      "Epoch 1/10\n",
      "WARNING:tensorflow:From C:\\Python311\\Lib\\site-packages\\keras\\src\\utils\\tf_utils.py:492: The name tf.ragged.RaggedTensorValue is deprecated. Please use tf.compat.v1.ragged.RaggedTensorValue instead.\n",
      "\n",
      "WARNING:tensorflow:From C:\\Python311\\Lib\\site-packages\\keras\\src\\engine\\base_layer_utils.py:384: The name tf.executing_eagerly_outside_functions is deprecated. Please use tf.compat.v1.executing_eagerly_outside_functions instead.\n",
      "\n",
      "781/781 [==============================] - 169s 214ms/step - loss: 1.6103 - accuracy: 0.1023 - val_loss: 1.3481 - val_accuracy: 0.1471\n",
      "Epoch 2/10\n",
      "781/781 [==============================] - 157s 200ms/step - loss: 1.4107 - accuracy: 0.0983 - val_loss: 1.2726 - val_accuracy: 0.1143\n",
      "Epoch 3/10\n",
      "781/781 [==============================] - 156s 200ms/step - loss: 1.3647 - accuracy: 0.0983 - val_loss: 1.2370 - val_accuracy: 0.1087\n",
      "Epoch 4/10\n",
      "781/781 [==============================] - 161s 206ms/step - loss: 1.3412 - accuracy: 0.0983 - val_loss: 1.2188 - val_accuracy: 0.1087\n",
      "Epoch 5/10\n",
      "781/781 [==============================] - 167s 214ms/step - loss: 1.3161 - accuracy: 0.0992 - val_loss: 1.2010 - val_accuracy: 0.1120\n",
      "Epoch 6/10\n",
      "781/781 [==============================] - 166s 212ms/step - loss: 1.2958 - accuracy: 0.0974 - val_loss: 1.1875 - val_accuracy: 0.1137\n",
      "Epoch 7/10\n",
      "781/781 [==============================] - 163s 208ms/step - loss: 1.2898 - accuracy: 0.0964 - val_loss: 1.1735 - val_accuracy: 0.0877\n",
      "Epoch 8/10\n",
      "781/781 [==============================] - 158s 203ms/step - loss: 1.2710 - accuracy: 0.0975 - val_loss: 1.1703 - val_accuracy: 0.0976\n",
      "Epoch 9/10\n",
      "781/781 [==============================] - 157s 200ms/step - loss: 1.2681 - accuracy: 0.0983 - val_loss: 1.1497 - val_accuracy: 0.0933\n",
      "Epoch 10/10\n",
      "781/781 [==============================] - 157s 202ms/step - loss: 1.2586 - accuracy: 0.0969 - val_loss: 1.1601 - val_accuracy: 0.1207\n"
     ]
    }
   ],
   "source": [
    "\n",
    "# Train the model\n",
    "history = model.fit(train_datagen.flow(train_images, train_labels, batch_size=64),\n",
    "                    steps_per_epoch=len(train_images) / 64, epochs=10, \n",
    "                    validation_data=(test_images, test_labels))\n"
   ]
  },
  {
   "cell_type": "code",
   "execution_count": 5,
   "metadata": {},
   "outputs": [
    {
     "name": "stdout",
     "output_type": "stream",
     "text": [
      "313/313 [==============================] - 31s 98ms/step - loss: 1.1601 - accuracy: 0.1207\n",
      "Test accuracy: 0.12070000171661377\n"
     ]
    }
   ],
   "source": [
    "\n",
    "# Evaluate the model\n",
    "test_loss, test_acc = model.evaluate(test_images, test_labels)\n",
    "print(f'Test accuracy: {test_acc}')"
   ]
  }
 ],
 "metadata": {
  "kernelspec": {
   "display_name": "Python 3 (ipykernel)",
   "language": "python",
   "name": "python3"
  },
  "language_info": {
   "codemirror_mode": {
    "name": "ipython",
    "version": 3
   },
   "file_extension": ".py",
   "mimetype": "text/x-python",
   "name": "python",
   "nbconvert_exporter": "python",
   "pygments_lexer": "ipython3",
   "version": "3.11.0"
  }
 },
 "nbformat": 4,
 "nbformat_minor": 2
}
