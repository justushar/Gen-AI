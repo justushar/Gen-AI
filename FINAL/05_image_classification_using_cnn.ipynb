{
  "nbformat": 4,
  "nbformat_minor": 0,
  "metadata": {
    "colab": {
      "provenance": [],
      "gpuType": "T4"
    },
    "kernelspec": {
      "name": "python3",
      "display_name": "Python 3"
    },
    "language_info": {
      "name": "python"
    },
    "accelerator": "GPU"
  },
  "cells": [
    {
      "cell_type": "markdown",
      "source": [
        "# Experiment 5\n",
        "\n",
        "### Aim: Implement Transfer Learning"
      ],
      "metadata": {
        "id": "WCDFs4QttlhF"
      }
    },
    {
      "cell_type": "code",
      "execution_count": 1,
      "metadata": {
        "id": "oz7t2YWRmVVu"
      },
      "outputs": [],
      "source": [
        "import tensorflow as tf\n",
        "from tensorflow.keras import datasets, layers, models, optimizers\n",
        "from tensorflow.keras.applications import VGG16\n",
        "from tensorflow.keras.preprocessing.image import ImageDataGenerator"
      ]
    },
    {
      "cell_type": "code",
      "source": [
        "# Load CIFAR-10 dataset\n",
        "(train_images, train_labels), (test_images, test_labels) = datasets.cifar10.load_data()"
      ],
      "metadata": {
        "colab": {
          "base_uri": "https://localhost:8080/"
        },
        "id": "uGcdlFEempOe",
        "outputId": "4abdc94f-517b-484c-e34a-9f5bc279d8f7"
      },
      "execution_count": 2,
      "outputs": [
        {
          "output_type": "stream",
          "name": "stdout",
          "text": [
            "Downloading data from https://www.cs.toronto.edu/~kriz/cifar-10-python.tar.gz\n",
            "170498071/170498071 [==============================] - 4s 0us/step\n"
          ]
        }
      ]
    },
    {
      "cell_type": "code",
      "source": [
        "# Normalize pixel values to be between 0 and 1\n",
        "train_images, test_images = train_images / 255.0, test_images / 255.0"
      ],
      "metadata": {
        "id": "mgGHrXTzmrBm"
      },
      "execution_count": 3,
      "outputs": []
    },
    {
      "cell_type": "code",
      "source": [
        "# Define data augmentation\n",
        "train_datagen = ImageDataGenerator(\n",
        "    rotation_range=15,\n",
        "    width_shift_range=0.1,\n",
        "    height_shift_range=0.1,\n",
        "    horizontal_flip=True,\n",
        "    )\n",
        "train_datagen.fit(train_images)"
      ],
      "metadata": {
        "id": "Bj91nQWOmtGj"
      },
      "execution_count": 4,
      "outputs": []
    },
    {
      "cell_type": "code",
      "source": [
        "# Load pre-trained VGG16 model without including top dense layers\n",
        "base_model = VGG16(weights='imagenet', include_top=False, input_shape=(32, 32, 3))"
      ],
      "metadata": {
        "colab": {
          "base_uri": "https://localhost:8080/"
        },
        "id": "_eyuhaWimvNL",
        "outputId": "beda6866-39cc-47e5-e416-df76671f3981"
      },
      "execution_count": 5,
      "outputs": [
        {
          "output_type": "stream",
          "name": "stdout",
          "text": [
            "Downloading data from https://storage.googleapis.com/tensorflow/keras-applications/vgg16/vgg16_weights_tf_dim_ordering_tf_kernels_notop.h5\n",
            "58889256/58889256 [==============================] - 0s 0us/step\n"
          ]
        }
      ]
    },
    {
      "cell_type": "code",
      "source": [
        "# Freeze all layers in base model\n",
        "for layer in base_model.layers:\n",
        "    layer.trainable = False"
      ],
      "metadata": {
        "id": "zXYWTS56mxTJ"
      },
      "execution_count": 6,
      "outputs": []
    },
    {
      "cell_type": "code",
      "source": [
        "# Add custom dense layers for CIFAR-10 classification\n",
        "model = models.Sequential()\n",
        "model.add(base_model)\n",
        "model.add(layers.Flatten())\n",
        "model.add(layers.Dense(256, activation='relu'))\n",
        "model.add(layers.Dropout(0.5))\n",
        "model.add(layers.Dense(10, activation='softmax'))"
      ],
      "metadata": {
        "id": "aIKYg1l4mzWk"
      },
      "execution_count": 7,
      "outputs": []
    },
    {
      "cell_type": "code",
      "source": [
        "# Compile the model\n",
        "model.compile(optimizer=optimizers.Adam(),\n",
        "              loss='sparse_categorical_crossentropy',\n",
        "              metrics=['accuracy'])"
      ],
      "metadata": {
        "id": "mJ47adncm1aY"
      },
      "execution_count": 8,
      "outputs": []
    },
    {
      "cell_type": "code",
      "source": [
        "# Train the model\n",
        "history = model.fit(train_datagen.flow(train_images, train_labels, batch_size=64),\n",
        "                    steps_per_epoch=len(train_images) / 64, epochs=10,\n",
        "                    validation_data=(test_images, test_labels))"
      ],
      "metadata": {
        "colab": {
          "base_uri": "https://localhost:8080/"
        },
        "id": "CPWyjKdsm3GF",
        "outputId": "9ad81866-68e7-4027-ee76-0bb564bbcb68"
      },
      "execution_count": 9,
      "outputs": [
        {
          "output_type": "stream",
          "name": "stdout",
          "text": [
            "Epoch 1/10\n",
            "781/781 [==============================] - 38s 43ms/step - loss: 1.6069 - accuracy: 0.1017 - val_loss: 1.3236 - val_accuracy: 0.0939\n",
            "Epoch 2/10\n",
            "781/781 [==============================] - 32s 41ms/step - loss: 1.4187 - accuracy: 0.0974 - val_loss: 1.2689 - val_accuracy: 0.1079\n",
            "Epoch 3/10\n",
            "781/781 [==============================] - 32s 40ms/step - loss: 1.3620 - accuracy: 0.0978 - val_loss: 1.2226 - val_accuracy: 0.0993\n",
            "Epoch 4/10\n",
            "781/781 [==============================] - 33s 42ms/step - loss: 1.3305 - accuracy: 0.0972 - val_loss: 1.2217 - val_accuracy: 0.1270\n",
            "Epoch 5/10\n",
            "781/781 [==============================] - 31s 40ms/step - loss: 1.3192 - accuracy: 0.0978 - val_loss: 1.2003 - val_accuracy: 0.0874\n",
            "Epoch 6/10\n",
            "781/781 [==============================] - 32s 41ms/step - loss: 1.3034 - accuracy: 0.0978 - val_loss: 1.1808 - val_accuracy: 0.1073\n",
            "Epoch 7/10\n",
            "781/781 [==============================] - 31s 40ms/step - loss: 1.2891 - accuracy: 0.0978 - val_loss: 1.1794 - val_accuracy: 0.0910\n",
            "Epoch 8/10\n",
            "781/781 [==============================] - 32s 40ms/step - loss: 1.2755 - accuracy: 0.0963 - val_loss: 1.1671 - val_accuracy: 0.1121\n",
            "Epoch 9/10\n",
            "781/781 [==============================] - 32s 41ms/step - loss: 1.2649 - accuracy: 0.0977 - val_loss: 1.1707 - val_accuracy: 0.0924\n",
            "Epoch 10/10\n",
            "781/781 [==============================] - 32s 40ms/step - loss: 1.2604 - accuracy: 0.0960 - val_loss: 1.1607 - val_accuracy: 0.1063\n"
          ]
        }
      ]
    },
    {
      "cell_type": "code",
      "source": [
        "# Evaluate the model\n",
        "test_loss, test_acc = model.evaluate(test_images, test_labels)\n",
        "print(f'Test accuracy: {test_acc}')"
      ],
      "metadata": {
        "colab": {
          "base_uri": "https://localhost:8080/"
        },
        "id": "I_2DZ3Pam4gw",
        "outputId": "c0a91c8c-b29f-4448-b3c4-60b3f15eb90d"
      },
      "execution_count": 10,
      "outputs": [
        {
          "output_type": "stream",
          "name": "stdout",
          "text": [
            "313/313 [==============================] - 2s 8ms/step - loss: 1.1607 - accuracy: 0.1063\n",
            "Test accuracy: 0.1062999963760376\n"
          ]
        }
      ]
    }
  ]
}